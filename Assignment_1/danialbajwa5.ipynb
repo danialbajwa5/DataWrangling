{
 "cells": [
  {
   "cell_type": "code",
   "execution_count": 1,
   "id": "d633bc07-ce52-435e-8a7e-f66ad6765518",
   "metadata": {},
   "outputs": [
    {
     "name": "stdout",
     "output_type": "stream",
     "text": [
      "This is Assignment 1 for BABI 4005\n"
     ]
    }
   ],
   "source": [
    "print (\"This is Assignment 1 for BABI 4005\")"
   ]
  },
  {
   "cell_type": "code",
   "execution_count": 3,
   "id": "2ea8b511-b49c-4c93-9eeb-3eaaa635e4eb",
   "metadata": {},
   "outputs": [
    {
     "name": "stdout",
     "output_type": "stream",
     "text": [
      "49\n"
     ]
    }
   ],
   "source": [
    "print (7 * 7)"
   ]
  },
  {
   "cell_type": "code",
   "execution_count": null,
   "id": "81e2e134-1c4b-4cb6-bc50-6129750d719d",
   "metadata": {},
   "outputs": [],
   "source": []
  }
 ],
 "metadata": {
  "kernelspec": {
   "display_name": "Python [conda env:base] *",
   "language": "python",
   "name": "conda-base-py"
  },
  "language_info": {
   "codemirror_mode": {
    "name": "ipython",
    "version": 3
   },
   "file_extension": ".py",
   "mimetype": "text/x-python",
   "name": "python",
   "nbconvert_exporter": "python",
   "pygments_lexer": "ipython3",
   "version": "3.12.7"
  }
 },
 "nbformat": 4,
 "nbformat_minor": 5
}
